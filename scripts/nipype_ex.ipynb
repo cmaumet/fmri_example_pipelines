{
 "cells": [
  {
   "cell_type": "markdown",
   "metadata": {},
   "source": [
    "### A simple fMRI analysis using SPM with nipype"
   ]
  },
  {
   "cell_type": "markdown",
   "metadata": {},
   "source": [
    "Resources: \n",
    "     - https://miykael.github.io/nipype_tutorial/notebooks/introduction_showcase.html\n",
    "     - https://pythonhosted.org/nipype/users/examples/fmri_spm_face.html\n",
    "     - https://miykael.github.io/nipype_tutorial/notebooks/handson_analysis.html\n",
    "     \n",
    "     \n",
    "A faire\n",
    " - utiliser MCR"
   ]
  },
  {
   "cell_type": "code",
   "execution_count": 1,
   "metadata": {},
   "outputs": [
    {
     "name": "stderr",
     "output_type": "stream",
     "text": [
      "Failed to import duecredit due to No module named 'duecredit'\n"
     ]
    }
   ],
   "source": [
    "from nipype import Node, Workflow\n",
    "import os\n",
    "import nipype.interfaces.matlab as mlab"
   ]
  },
  {
   "cell_type": "code",
   "execution_count": 2,
   "metadata": {},
   "outputs": [],
   "source": [
    "# Set the way matlab should be called -- TODO\n",
    "mlab.MatlabCommand.set_default_matlab_cmd(\"/Applications/MATLAB_R2017a.app/bin/matlab -nodesktop -nosplash\")\n",
    "# If SPM is not in your MATLAB path you should add it here\n",
    "mlab.MatlabCommand.set_default_paths(os.path.join(os.getcwd(), '..', '..', 'spm8'))"
   ]
  },
  {
   "cell_type": "code",
   "execution_count": 3,
   "metadata": {},
   "outputs": [],
   "source": [
    "from nipype.interfaces.spm import Segment, SliceTiming, Realign, Coregister, Normalize, Smooth\n",
    "from nipype.interfaces.fsl import ExtractROI"
   ]
  },
  {
   "cell_type": "code",
   "execution_count": 4,
   "metadata": {},
   "outputs": [],
   "source": [
    "# Defaults\n",
    "\n",
    "tr = 2.5;\n",
    "ta = 2.5;\n",
    "\n",
    "num_img_stab = 2;\n",
    "\n",
    "num_slices = 30\n",
    "\n",
    "# FIS_UNITS = 'secs';\n",
    "\n",
    "# FIS_CONDITIONS{1} = struct(...\n",
    "#     'sessName', 'se_fingerfootlips',...\n",
    "#     'condnames', {'finger'},...\n",
    "#     'onsets', {(10:90:430) - NUM_IMG_STAB.nBeg*TR},...\n",
    "#     'duration',{15});\n",
    "\n",
    "# FIS_CONTRASTS{1} = struct(...\n",
    "#     'contrastName', 'cn_figer', ...\n",
    "#     'name', 'Motor finger: activations', ...\n",
    "#     'coninfo', 'co_finger', ...\n",
    "#     'negative', true, ...\n",
    "#     'nameNegative', 'Motor finger: deactivations',...\n",
    "#     'sessrep', 'none');\n",
    "\n",
    "# INFORMED_BASIS_SET = false;\n",
    "\n",
    "# FIS_THRESHOLDS{1} = struct('threshdesc', 'none', 'thresh', 0.001);\n",
    "\n",
    "# GU_CONTRASTS{1} = struct(...\n",
    "#     'contrastName', 'cn_figer', ...\n",
    "#     'name', 'Motor finger: group activations', ...\n",
    "#     'coninfo', 'co_finger', ...\n",
    "#     'negative', true, ...\n",
    "#     'nameNegative', 'Motor finger: deactivations',...\n",
    "#     'sessrep', 'none');\n",
    "\n",
    "# GU_THRESHOLDS{1} = struct('threshdesc', 'FWE', 'thresh', 0.05);"
   ]
  },
  {
   "cell_type": "code",
   "execution_count": 5,
   "metadata": {},
   "outputs": [],
   "source": [
    "ds114 = os.path.join(os.getcwd(), '..', 'data', 'ds000114_R2.0.1')\n",
    "base_output = os.path.join(os.getcwd(), '..', 'output', 'nipype')\n",
    "preproc_folder =  'pre-processing'"
   ]
  },
  {
   "cell_type": "markdown",
   "metadata": {},
   "source": [
    "### anatomical MRI preprocessing"
   ]
  },
  {
   "cell_type": "code",
   "execution_count": 6,
   "metadata": {},
   "outputs": [],
   "source": [
    "segment = Node(Segment(save_bias_corrected=True), name=\"segment\")"
   ]
  },
  {
   "cell_type": "markdown",
   "metadata": {},
   "source": [
    "### fMRI preprocessing"
   ]
  },
  {
   "cell_type": "code",
   "execution_count": 7,
   "metadata": {},
   "outputs": [],
   "source": [
    "TR=tr\n",
    "\n",
    "# Slice order must start from 1 not zero (otherwise we get a Matlab error)\n",
    "\n",
    "slicetiming = Node(SliceTiming(time_repetition=TR,\n",
    "                             time_acquisition=TR - TR / float(num_slices),\n",
    "                             num_slices = num_slices,\n",
    "                             slice_order = list(range(1, num_slices+1, 2)) + list(range(2, num_slices+1, 2)), # TODO\n",
    "                             ref_slice = int(num_slices / 2)), name=\"slicetiming\")\n",
    "realign = Node(Realign(), name = 'realign')\n",
    "coreg = Node(Coregister(), name = 'coreg')\n",
    "norm = Node(Normalize(), name = 'norm')\n",
    "norm.inputs.jobtype = \"write\"\n",
    "norm_anat = Node(Normalize(), name = 'norm_anat')\n",
    "norm_anat.inputs.jobtype = \"write\"\n",
    "smooth = Node(Smooth(), name = 'smooth')\n"
   ]
  },
  {
   "cell_type": "code",
   "execution_count": 8,
   "metadata": {},
   "outputs": [
    {
     "data": {
      "text/plain": [
       "30"
      ]
     },
     "execution_count": 8,
     "metadata": {},
     "output_type": "execute_result"
    }
   ],
   "source": [
    "len(list(range(0, num_slices, 2)) + list(range(1, num_slices, 2)))\n"
   ]
  },
  {
   "cell_type": "code",
   "execution_count": 9,
   "metadata": {},
   "outputs": [],
   "source": [
    "from nipype.algorithms.misc import Gunzip\n",
    "\n",
    "gunzip = Node(Gunzip(), name='gunzip')"
   ]
  },
  {
   "cell_type": "code",
   "execution_count": 10,
   "metadata": {},
   "outputs": [],
   "source": [
    "# slicetiming.inputs.in_files = [one_fmri_file]\n",
    "# segment.inputs.data = one_anat_file\n",
    "\n"
   ]
  },
  {
   "cell_type": "code",
   "execution_count": 11,
   "metadata": {},
   "outputs": [],
   "source": [
    "# list of session identifiers\n",
    "task_list = ['fingerfootlips']"
   ]
  },
  {
   "cell_type": "code",
   "execution_count": 12,
   "metadata": {},
   "outputs": [],
   "source": [
    "from nipype.interfaces.utility import IdentityInterface\n",
    "from nipype.interfaces.io import SelectFiles, DataSink\n",
    "\n",
    "\n",
    "# list of subject identifiers\n",
    "# subject_list = ['01', '02', '03', '04', '05', '06', '07', '08', '09', '10']\n",
    "subject_list = ['01', '02']\n",
    "\n",
    "# Infosource - a function free node to iterate over the list of subject names\n",
    "infosource = Node(IdentityInterface(fields=['subject_id', 'task_name']),\n",
    "                  name=\"infosource\")\n",
    "infosource.iterables = [('subject_id', subject_list),\n",
    "                        ('task_name', task_list)]\n",
    "\n",
    "# Skip dummy scans\n",
    "extract = Node(ExtractROI(t_min=num_img_stab, t_size=-1, output_type='NIFTI'),\n",
    "               name=\"extract\")\n",
    "\n",
    "# SelectFiles - to grab the data (alternativ to DataGrabber)\n",
    "anat_file = os.path.join('sub-{subject_id}', 'ses-test', 'anat', 'sub-{subject_id}_ses-test_t1w.nii.gz')\n",
    "func_file = os.path.join('sub-{subject_id}', 'ses-test', 'func',\n",
    "                'sub-{subject_id}_ses-test_task-{task_name}_bold.nii.gz')\n",
    "\n",
    "templates = {'anat': anat_file,\n",
    "             'func': func_file}\n",
    "selectfiles = Node(SelectFiles(templates,\n",
    "                               base_directory=ds114),\n",
    "                   name=\"selectfiles\")\n",
    "\n",
    "datasink = Node(DataSink(base_directory=base_output,\n",
    "                         container=preproc_folder),\n",
    "                name=\"datasink\")\n",
    "\n",
    "## Use the following substitutions for the DataSink output\n",
    "substitutions = [('_subj_id_', 'su_')]\n",
    "datasink.inputs.substitutions = substitutions"
   ]
  },
  {
   "cell_type": "code",
   "execution_count": 16,
   "metadata": {},
   "outputs": [
    {
     "name": "stdout",
     "output_type": "stream",
     "text": [
      "181122-17:13:43,918 nipype.workflow INFO:\n",
      "\t Generated workflow graph: /Users/camaumet/Softs/fmri_example_pipelines/scripts/../output/nipype/preproc/graph.png (graph2use=colored, simple_form=True).\n"
     ]
    },
    {
     "data": {
      "image/png": "[encoded data removed]",
      "text/plain": [
       "<IPython.core.display.Image object>"
      ]
     },
     "execution_count": 16,
     "metadata": {},
     "output_type": "execute_result"
    }
   ],
   "source": [
    "preproc = Workflow(name='preproc')\n",
    "preproc.base_dir = os.path.join(base_output)\n",
    "\n",
    "preproc.connect([(infosource, selectfiles, [('subject_id', 'subject_id'),\n",
    "                                            ('task_name', 'task_name')]),\n",
    "                 (selectfiles, extract, [('func', 'in_file')]),\n",
    "                 (extract, slicetiming, [('roi_file', 'in_files')]),\n",
    "                 (slicetiming, realign, [('timecorrected_files', 'in_files')]),\n",
    "                 (realign, coreg, [('mean_image', 'source')]),\n",
    "                 (selectfiles, gunzip, [('anat', 'in_file')]),\n",
    "                 (gunzip, segment, [('out_file', 'data')]),\n",
    "                 (segment, coreg, [('bias_corrected_image', 'target')]),\n",
    "                 (coreg, norm, [('coregistered_source', 'source')]),\n",
    "                 (norm, smooth, [('normalized_source', 'in_files')]),\n",
    "                 (segment, norm, [('transformation_mat', 'parameter_file')]),\n",
    "                 (segment, norm_anat, [('bias_corrected_image', 'source'),\n",
    "                                       ('transformation_mat', 'parameter_file')])])\n",
    "\n",
    "preproc.write_graph(graph2use='colored', format='png', simple_form=True)\n",
    "\n",
    "# Save outputs\n",
    "preproc.connect([(slicetiming, datasink, [('timecorrected_files', 'functional.@slicetimed')]),\n",
    "                 (realign, datasink, [('mean_image', 'functional.@realigned_mean'),\n",
    "                                      ('realigned_files', 'functional.@realigned'),\n",
    "                                      ('realignment_parameters', 'functional.@realigned_param')]),\n",
    "                 (coreg, datasink, [('coregistered_files', 'functional.@coreg')]),\n",
    "                 (norm, datasink, [('normalized_source', 'functional.@norm')]),\n",
    "                 (norm_anat, datasink, [('normalized_source', 'anat.@norm')]),\n",
    "                 (segment, datasink, [('bias_corrected_image', 'anat.@t1'),\n",
    "                                      ('native_gm_image', 'anat.@gm'),\n",
    "                                      ('native_wm_image', 'anat.@wm'),\n",
    "                                      ('native_csf_image', 'anat.@csf')])\n",
    "                 ])\n",
    "\n",
    "\n",
    "\n",
    "# Visualize the graph\n",
    "from IPython.display import Image\n",
    "Image(filename=os.path.join(preproc.base_dir, 'preproc', 'graph.png'))\n",
    "\n"
   ]
  },
  {
   "cell_type": "code",
   "execution_count": 15,
   "metadata": {},
   "outputs": [
    {
     "name": "stdout",
     "output_type": "stream",
     "text": [
      "181122-17:05:39,193 nipype.workflow INFO:\n",
      "\t Workflow preproc settings: ['check', 'execution', 'logging', 'monitoring']\n",
      "181122-17:05:39,267 nipype.workflow INFO:\n",
      "\t Running in parallel.\n",
      "181122-17:05:39,272 nipype.workflow INFO:\n",
      "\t [MultiProc] Running 0 tasks, and 2 jobs ready. Free memory (GB): 14.40/14.40, Free processors: 1/1.\n",
      "181122-17:05:39,359 nipype.workflow INFO:\n",
      "\t [Node] Setting-up \"preproc.selectfiles\" in \"/Users/camaumet/Softs/fmri_example_pipelines/output/nipype/preproc/_subject_id_02_task_name_fingerfootlips/selectfiles\".\n",
      "181122-17:05:39,379 nipype.workflow INFO:\n",
      "\t [Node] Running \"selectfiles\" (\"nipype.interfaces.io.SelectFiles\")\n",
      "181122-17:05:39,397 nipype.workflow INFO:\n",
      "\t [Node] Finished \"preproc.selectfiles\".\n",
      "181122-17:05:41,278 nipype.workflow INFO:\n",
      "\t [Job 0] Completed (preproc.selectfiles).\n",
      "181122-17:05:41,284 nipype.workflow INFO:\n",
      "\t [MultiProc] Running 0 tasks, and 3 jobs ready. Free memory (GB): 14.40/14.40, Free processors: 1/1.\n",
      "181122-17:05:41,362 nipype.workflow INFO:\n",
      "\t [Job 1] Cached (preproc.gunzip).\n",
      "181122-17:05:43,331 nipype.workflow INFO:\n",
      "\t [Job 2] Cached (preproc.segment).\n",
      "181122-17:05:45,335 nipype.workflow INFO:\n",
      "\t [Node] Outdated cache found for \"preproc.norm_anat\".\n",
      "181122-17:05:45,340 nipype.workflow INFO:\n",
      "\t [Node] Setting-up \"preproc.norm_anat\" in \"/Users/camaumet/Softs/fmri_example_pipelines/output/nipype/preproc/_subject_id_02_task_name_fingerfootlips/norm_anat\".\n",
      "181122-17:05:45,346 nipype.workflow INFO:\n",
      "\t [Node] Outdated cache found for \"preproc.norm_anat\".\n",
      "181122-17:05:45,498 nipype.workflow INFO:\n",
      "\t [Node] Running \"norm_anat\" (\"nipype.interfaces.spm.preprocess.Normalize\")\n",
      "181122-17:05:47,286 nipype.workflow INFO:\n",
      "\t [MultiProc] Running 1 tasks, and 2 jobs ready. Free memory (GB): 14.20/14.40, Free processors: 0/1.\n",
      "                     Currently running:\n",
      "                       * preproc.norm_anat\n",
      "181122-17:06:59,93 nipype.workflow INFO:\n",
      "\t [Node] Finished \"preproc.norm_anat\".\n",
      "181122-17:06:59,382 nipype.workflow INFO:\n",
      "\t [Job 3] Completed (preproc.norm_anat).\n",
      "181122-17:06:59,389 nipype.workflow INFO:\n",
      "\t [MultiProc] Running 0 tasks, and 2 jobs ready. Free memory (GB): 14.40/14.40, Free processors: 1/1.\n",
      "181122-17:06:59,448 nipype.workflow INFO:\n",
      "\t [Job 4] Cached (preproc.extract).\n",
      "181122-17:07:01,441 nipype.workflow INFO:\n",
      "\t [Job 5] Cached (preproc.slicetiming).\n",
      "181122-17:07:03,436 nipype.workflow INFO:\n",
      "\t [Node] Outdated cache found for \"preproc.realign\".\n",
      "181122-17:07:03,439 nipype.workflow INFO:\n",
      "\t [Node] Setting-up \"preproc.realign\" in \"/Users/camaumet/Softs/fmri_example_pipelines/output/nipype/preproc/_subject_id_02_task_name_fingerfootlips/realign\".\n",
      "181122-17:07:03,444 nipype.workflow INFO:\n",
      "\t [Node] Outdated cache found for \"preproc.realign\".\n",
      "181122-17:07:03,560 nipype.workflow INFO:\n",
      "\t [Node] Running \"realign\" (\"nipype.interfaces.spm.preprocess.Realign\")\n",
      "181122-17:07:05,394 nipype.workflow INFO:\n",
      "\t [MultiProc] Running 1 tasks, and 1 jobs ready. Free memory (GB): 14.20/14.40, Free processors: 0/1.\n",
      "                     Currently running:\n",
      "                       * preproc.realign\n",
      "181122-17:08:06,429 nipype.workflow INFO:\n",
      "\t [Node] Finished \"preproc.realign\".\n",
      "181122-17:08:07,460 nipype.workflow INFO:\n",
      "\t [Job 6] Completed (preproc.realign).\n",
      "181122-17:08:07,465 nipype.workflow INFO:\n",
      "\t [MultiProc] Running 0 tasks, and 2 jobs ready. Free memory (GB): 14.40/14.40, Free processors: 1/1.\n",
      "181122-17:08:07,524 nipype.workflow INFO:\n",
      "\t [Node] Outdated cache found for \"preproc.coreg\".\n",
      "181122-17:08:07,528 nipype.workflow INFO:\n",
      "\t [Node] Setting-up \"preproc.coreg\" in \"/Users/camaumet/Softs/fmri_example_pipelines/output/nipype/preproc/_subject_id_02_task_name_fingerfootlips/coreg\".\n",
      "181122-17:08:07,539 nipype.workflow INFO:\n",
      "\t [Node] Outdated cache found for \"preproc.coreg\".\n",
      "181122-17:08:07,565 nipype.workflow INFO:\n",
      "\t [Node] Running \"coreg\" (\"nipype.interfaces.spm.preprocess.Coregister\")\n",
      "181122-17:08:09,464 nipype.workflow INFO:\n",
      "\t [MultiProc] Running 1 tasks, and 1 jobs ready. Free memory (GB): 14.20/14.40, Free processors: 0/1.\n",
      "                     Currently running:\n",
      "                       * preproc.coreg\n",
      "181122-17:08:49,604 nipype.workflow INFO:\n",
      "\t [Node] Finished \"preproc.coreg\".\n",
      "181122-17:08:51,517 nipype.workflow INFO:\n",
      "\t [Job 7] Completed (preproc.coreg).\n",
      "181122-17:08:51,521 nipype.workflow INFO:\n",
      "\t [MultiProc] Running 0 tasks, and 2 jobs ready. Free memory (GB): 14.40/14.40, Free processors: 1/1.\n",
      "181122-17:08:51,584 nipype.workflow INFO:\n",
      "\t [Node] Outdated cache found for \"preproc.norm\".\n",
      "181122-17:08:51,587 nipype.workflow INFO:\n",
      "\t [Node] Setting-up \"preproc.norm\" in \"/Users/camaumet/Softs/fmri_example_pipelines/output/nipype/preproc/_subject_id_02_task_name_fingerfootlips/norm\".\n",
      "181122-17:08:51,593 nipype.workflow INFO:\n",
      "\t [Node] Outdated cache found for \"preproc.norm\".\n",
      "181122-17:08:51,661 nipype.workflow INFO:\n",
      "\t [Node] Running \"norm\" (\"nipype.interfaces.spm.preprocess.Normalize\")\n",
      "181122-17:08:53,519 nipype.workflow INFO:\n",
      "\t [MultiProc] Running 1 tasks, and 1 jobs ready. Free memory (GB): 14.20/14.40, Free processors: 0/1.\n",
      "                     Currently running:\n",
      "                       * preproc.norm\n",
      "181122-17:09:20,316 nipype.workflow INFO:\n",
      "\t [Node] Finished \"preproc.norm\".\n",
      "181122-17:09:21,556 nipype.workflow INFO:\n",
      "\t [Job 8] Completed (preproc.norm).\n",
      "181122-17:09:21,563 nipype.workflow INFO:\n",
      "\t [MultiProc] Running 0 tasks, and 3 jobs ready. Free memory (GB): 14.40/14.40, Free processors: 1/1.\n",
      "181122-17:09:21,629 nipype.workflow INFO:\n",
      "\t [Node] Outdated cache found for \"preproc.datasink\".\n",
      "181122-17:09:21,636 nipype.workflow INFO:\n",
      "\t [Node] Setting-up \"preproc.datasink\" in \"/Users/camaumet/Softs/fmri_example_pipelines/output/nipype/preproc/_subject_id_02_task_name_fingerfootlips/datasink\".\n",
      "181122-17:09:21,640 nipype.workflow INFO:\n",
      "\t [Node] Outdated cache found for \"preproc.datasink\".\n",
      "181122-17:09:21,653 nipype.workflow INFO:\n",
      "\t [Node] Running \"datasink\" (\"nipype.interfaces.io.DataSink\")\n",
      "181122-17:09:21,674 nipype.workflow INFO:\n",
      "\t [Node] Finished \"preproc.datasink\".\n",
      "181122-17:09:23,560 nipype.workflow INFO:\n",
      "\t [Job 9] Completed (preproc.datasink).\n",
      "181122-17:09:23,566 nipype.workflow INFO:\n",
      "\t [MultiProc] Running 0 tasks, and 2 jobs ready. Free memory (GB): 14.40/14.40, Free processors: 1/1.\n",
      "181122-17:09:23,608 nipype.workflow INFO:\n",
      "\t [Node] Outdated cache found for \"preproc.smooth\".\n",
      "181122-17:09:23,612 nipype.workflow INFO:\n",
      "\t [Node] Setting-up \"preproc.smooth\" in \"/Users/camaumet/Softs/fmri_example_pipelines/output/nipype/preproc/_subject_id_02_task_name_fingerfootlips/smooth\".\n",
      "181122-17:09:23,619 nipype.workflow INFO:\n",
      "\t [Node] Outdated cache found for \"preproc.smooth\".\n",
      "181122-17:09:23,636 nipype.workflow INFO:\n",
      "\t [Node] Running \"smooth\" (\"nipype.interfaces.spm.preprocess.Smooth\")\n",
      "181122-17:09:25,560 nipype.workflow INFO:\n",
      "\t [MultiProc] Running 1 tasks, and 1 jobs ready. Free memory (GB): 14.20/14.40, Free processors: 0/1.\n",
      "                     Currently running:\n",
      "                       * preproc.smooth\n",
      "181122-17:09:50,910 nipype.workflow INFO:\n",
      "\t [Node] Finished \"preproc.smooth\".\n",
      "181122-17:09:51,584 nipype.workflow INFO:\n",
      "\t [Job 10] Completed (preproc.smooth).\n",
      "181122-17:09:51,585 nipype.workflow INFO:\n",
      "\t [MultiProc] Running 0 tasks, and 1 jobs ready. Free memory (GB): 14.40/14.40, Free processors: 1/1.\n",
      "181122-17:09:51,659 nipype.workflow INFO:\n",
      "\t [Node] Setting-up \"preproc.selectfiles\" in \"/Users/camaumet/Softs/fmri_example_pipelines/output/nipype/preproc/_subject_id_01_task_name_fingerfootlips/selectfiles\".\n",
      "181122-17:09:51,671 nipype.workflow INFO:\n",
      "\t [Node] Running \"selectfiles\" (\"nipype.interfaces.io.SelectFiles\")\n",
      "181122-17:09:51,690 nipype.workflow INFO:\n",
      "\t [Node] Finished \"preproc.selectfiles\".\n",
      "181122-17:09:53,586 nipype.workflow INFO:\n",
      "\t [Job 11] Completed (preproc.selectfiles).\n",
      "181122-17:09:53,591 nipype.workflow INFO:\n",
      "\t [MultiProc] Running 0 tasks, and 2 jobs ready. Free memory (GB): 14.40/14.40, Free processors: 1/1.\n",
      "181122-17:09:53,647 nipype.workflow INFO:\n",
      "\t [Job 12] Cached (preproc.gunzip).\n",
      "181122-17:09:55,649 nipype.workflow INFO:\n",
      "\t [Job 13] Cached (preproc.segment).\n",
      "181122-17:09:57,639 nipype.workflow INFO:\n",
      "\t [Node] Outdated cache found for \"preproc.norm_anat\".\n",
      "181122-17:09:57,643 nipype.workflow INFO:\n"
     ]
    },
    {
     "name": "stdout",
     "output_type": "stream",
     "text": [
      "\t [Node] Setting-up \"preproc.norm_anat\" in \"/Users/camaumet/Softs/fmri_example_pipelines/output/nipype/preproc/_subject_id_01_task_name_fingerfootlips/norm_anat\".\n",
      "181122-17:09:57,648 nipype.workflow INFO:\n",
      "\t [Node] Outdated cache found for \"preproc.norm_anat\".\n",
      "181122-17:09:57,787 nipype.workflow INFO:\n",
      "\t [Node] Running \"norm_anat\" (\"nipype.interfaces.spm.preprocess.Normalize\")\n",
      "181122-17:09:59,590 nipype.workflow INFO:\n",
      "\t [MultiProc] Running 1 tasks, and 1 jobs ready. Free memory (GB): 14.20/14.40, Free processors: 0/1.\n",
      "                     Currently running:\n",
      "                       * preproc.norm_anat\n",
      "181122-17:10:25,670 nipype.workflow INFO:\n",
      "\t [Node] Finished \"preproc.norm_anat\".\n",
      "181122-17:10:27,613 nipype.workflow INFO:\n",
      "\t [Job 14] Completed (preproc.norm_anat).\n",
      "181122-17:10:27,618 nipype.workflow INFO:\n",
      "\t [MultiProc] Running 0 tasks, and 1 jobs ready. Free memory (GB): 14.40/14.40, Free processors: 1/1.\n",
      "181122-17:10:27,666 nipype.workflow INFO:\n",
      "\t [Job 15] Cached (preproc.extract).\n",
      "181122-17:10:29,657 nipype.workflow INFO:\n",
      "\t [Job 16] Cached (preproc.slicetiming).\n",
      "181122-17:10:31,658 nipype.workflow INFO:\n",
      "\t [Node] Outdated cache found for \"preproc.realign\".\n",
      "181122-17:10:31,662 nipype.workflow INFO:\n",
      "\t [Node] Setting-up \"preproc.realign\" in \"/Users/camaumet/Softs/fmri_example_pipelines/output/nipype/preproc/_subject_id_01_task_name_fingerfootlips/realign\".\n",
      "181122-17:10:31,667 nipype.workflow INFO:\n",
      "\t [Node] Outdated cache found for \"preproc.realign\".\n",
      "181122-17:10:31,793 nipype.workflow INFO:\n",
      "\t [Node] Running \"realign\" (\"nipype.interfaces.spm.preprocess.Realign\")\n",
      "181122-17:10:33,619 nipype.workflow INFO:\n",
      "\t [MultiProc] Running 1 tasks, and 0 jobs ready. Free memory (GB): 14.20/14.40, Free processors: 0/1.\n",
      "                     Currently running:\n",
      "                       * preproc.realign\n",
      "181122-17:11:36,384 nipype.workflow INFO:\n",
      "\t [Node] Finished \"preproc.realign\".\n",
      "181122-17:11:37,698 nipype.workflow INFO:\n",
      "\t [Job 17] Completed (preproc.realign).\n",
      "181122-17:11:37,701 nipype.workflow INFO:\n",
      "\t [MultiProc] Running 0 tasks, and 1 jobs ready. Free memory (GB): 14.40/14.40, Free processors: 1/1.\n",
      "181122-17:11:37,766 nipype.workflow INFO:\n",
      "\t [Node] Outdated cache found for \"preproc.coreg\".\n",
      "181122-17:11:37,771 nipype.workflow INFO:\n",
      "\t [Node] Setting-up \"preproc.coreg\" in \"/Users/camaumet/Softs/fmri_example_pipelines/output/nipype/preproc/_subject_id_01_task_name_fingerfootlips/coreg\".\n",
      "181122-17:11:37,778 nipype.workflow INFO:\n",
      "\t [Node] Outdated cache found for \"preproc.coreg\".\n",
      "181122-17:11:37,798 nipype.workflow INFO:\n",
      "\t [Node] Running \"coreg\" (\"nipype.interfaces.spm.preprocess.Coregister\")\n",
      "181122-17:11:39,701 nipype.workflow INFO:\n",
      "\t [MultiProc] Running 1 tasks, and 0 jobs ready. Free memory (GB): 14.20/14.40, Free processors: 0/1.\n",
      "                     Currently running:\n",
      "                       * preproc.coreg\n",
      "181122-17:12:28,903 nipype.workflow INFO:\n",
      "\t [Node] Finished \"preproc.coreg\".\n",
      "181122-17:12:29,765 nipype.workflow INFO:\n",
      "\t [Job 18] Completed (preproc.coreg).\n",
      "181122-17:12:29,773 nipype.workflow INFO:\n",
      "\t [MultiProc] Running 0 tasks, and 1 jobs ready. Free memory (GB): 14.40/14.40, Free processors: 1/1.\n",
      "181122-17:12:29,822 nipype.workflow INFO:\n",
      "\t [Node] Outdated cache found for \"preproc.norm\".\n",
      "181122-17:12:29,826 nipype.workflow INFO:\n",
      "\t [Node] Setting-up \"preproc.norm\" in \"/Users/camaumet/Softs/fmri_example_pipelines/output/nipype/preproc/_subject_id_01_task_name_fingerfootlips/norm\".\n",
      "181122-17:12:29,832 nipype.workflow INFO:\n",
      "\t [Node] Outdated cache found for \"preproc.norm\".\n",
      "181122-17:12:29,912 nipype.workflow INFO:\n",
      "\t [Node] Running \"norm\" (\"nipype.interfaces.spm.preprocess.Normalize\")\n",
      "181122-17:12:31,770 nipype.workflow INFO:\n",
      "\t [MultiProc] Running 1 tasks, and 0 jobs ready. Free memory (GB): 14.20/14.40, Free processors: 0/1.\n",
      "                     Currently running:\n",
      "                       * preproc.norm\n",
      "181122-17:12:57,767 nipype.workflow INFO:\n",
      "\t [Node] Finished \"preproc.norm\".\n",
      "181122-17:12:57,800 nipype.workflow INFO:\n",
      "\t [Job 19] Completed (preproc.norm).\n",
      "181122-17:12:57,803 nipype.workflow INFO:\n",
      "\t [MultiProc] Running 0 tasks, and 2 jobs ready. Free memory (GB): 14.40/14.40, Free processors: 1/1.\n",
      "181122-17:12:57,874 nipype.workflow INFO:\n",
      "\t [Node] Outdated cache found for \"preproc.datasink\".\n",
      "181122-17:12:57,879 nipype.workflow INFO:\n",
      "\t [Node] Setting-up \"preproc.datasink\" in \"/Users/camaumet/Softs/fmri_example_pipelines/output/nipype/preproc/_subject_id_01_task_name_fingerfootlips/datasink\".\n",
      "181122-17:12:57,885 nipype.workflow INFO:\n",
      "\t [Node] Outdated cache found for \"preproc.datasink\".\n",
      "181122-17:12:57,903 nipype.workflow INFO:\n",
      "\t [Node] Running \"datasink\" (\"nipype.interfaces.io.DataSink\")\n",
      "181122-17:12:57,937 nipype.workflow INFO:\n",
      "\t [Node] Finished \"preproc.datasink\".\n",
      "181122-17:12:59,802 nipype.workflow INFO:\n",
      "\t [Job 20] Completed (preproc.datasink).\n",
      "181122-17:12:59,807 nipype.workflow INFO:\n",
      "\t [MultiProc] Running 0 tasks, and 1 jobs ready. Free memory (GB): 14.40/14.40, Free processors: 1/1.\n",
      "181122-17:12:59,855 nipype.workflow INFO:\n",
      "\t [Node] Outdated cache found for \"preproc.smooth\".\n",
      "181122-17:12:59,860 nipype.workflow INFO:\n",
      "\t [Node] Setting-up \"preproc.smooth\" in \"/Users/camaumet/Softs/fmri_example_pipelines/output/nipype/preproc/_subject_id_01_task_name_fingerfootlips/smooth\".\n",
      "181122-17:12:59,866 nipype.workflow INFO:\n",
      "\t [Node] Outdated cache found for \"preproc.smooth\".\n",
      "181122-17:12:59,887 nipype.workflow INFO:\n",
      "\t [Node] Running \"smooth\" (\"nipype.interfaces.spm.preprocess.Smooth\")\n",
      "181122-17:13:01,810 nipype.workflow INFO:\n",
      "\t [MultiProc] Running 1 tasks, and 0 jobs ready. Free memory (GB): 14.20/14.40, Free processors: 0/1.\n",
      "                     Currently running:\n",
      "                       * preproc.smooth\n",
      "181122-17:13:29,129 nipype.workflow INFO:\n",
      "\t [Node] Finished \"preproc.smooth\".\n",
      "181122-17:13:29,851 nipype.workflow INFO:\n",
      "\t [Job 21] Completed (preproc.smooth).\n",
      "181122-17:13:29,856 nipype.workflow INFO:\n",
      "\t [MultiProc] Running 0 tasks, and 0 jobs ready. Free memory (GB): 14.40/14.40, Free processors: 1/1.\n"
     ]
    },
    {
     "data": {
      "text/plain": [
       "<networkx.classes.digraph.DiGraph at 0x1a1b2c76d8>"
      ]
     },
     "execution_count": 15,
     "metadata": {},
     "output_type": "execute_result"
    }
   ],
   "source": [
    "preproc.run('MultiProc', plugin_args={'n_procs': 1})"
   ]
  }
 ],
 "metadata": {
  "kernelspec": {
   "display_name": "Python [conda env:nipype]",
   "language": "python",
   "name": "conda-env-nipype-py"
  },
  "language_info": {
   "codemirror_mode": {
    "name": "ipython",
    "version": 3
   },
   "file_extension": ".py",
   "mimetype": "text/x-python",
   "name": "python",
   "nbconvert_exporter": "python",
   "pygments_lexer": "ipython3",
   "version": "3.6.6"
  }
 },
 "nbformat": 4,
 "nbformat_minor": 2
}
